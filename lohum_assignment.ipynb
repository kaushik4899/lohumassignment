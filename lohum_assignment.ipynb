{
  "nbformat": 4,
  "nbformat_minor": 0,
  "metadata": {
    "colab": {
      "provenance": []
    },
    "kernelspec": {
      "name": "python3",
      "display_name": "Python 3"
    },
    "language_info": {
      "name": "python"
    }
  },
  "cells": [
    {
      "cell_type": "code",
      "execution_count": null,
      "metadata": {
        "id": "eYAoHa75GxZL"
      },
      "outputs": [],
      "source": []
    },
    {
      "cell_type": "code",
      "source": [
        "from flask import Flask, jsonify\n",
        "import requests\n",
        "from bs4 import BeautifulSoup\n",
        "app = Flask(__name__)\n",
        "@app.route('/price')\n",
        "def get_price():\n",
        "    try:\n",
        "        response = requests.get('https://www.metal.com/Lithium-ion-Battery/202303240001')\n",
        "        soup = BeautifulSoup(response.content, 'html.parser')\n",
        "        soup\n",
        "        # Scrape price information\n",
        "        price = soup.select_one('.strong__1JlBD.priceDown__2TbRQ').get_text()\n",
        "        return jsonify({'price': price})\n",
        "    except:\n",
        "        return jsonify({'error': 'Error scraping price information'}), 500\n",
        "if __name__ == '__main__':\n",
        "    app.run(port=3000)"
      ],
      "metadata": {
        "colab": {
          "base_uri": "https://localhost:8080/"
        },
        "id": "nHX0USSPGyVG",
        "outputId": "cb67335a-96bd-4ca7-9005-b6cc86e12376"
      },
      "execution_count": null,
      "outputs": [
        {
          "output_type": "stream",
          "name": "stdout",
          "text": [
            " * Serving Flask app '__main__'\n",
            " * Debug mode: off\n"
          ]
        },
        {
          "output_type": "stream",
          "name": "stderr",
          "text": [
            "INFO:werkzeug:\u001b[31m\u001b[1mWARNING: This is a development server. Do not use it in a production deployment. Use a production WSGI server instead.\u001b[0m\n",
            " * Running on http://127.0.0.1:3000\n",
            "INFO:werkzeug:\u001b[33mPress CTRL+C to quit\u001b[0m\n"
          ]
        }
      ]
    },
    {
      "cell_type": "code",
      "source": [],
      "metadata": {
        "id": "eR5wi2JnHmDa"
      },
      "execution_count": null,
      "outputs": []
    },
    {
      "cell_type": "code",
      "source": [],
      "metadata": {
        "id": "jmHTR-wiHmk3"
      },
      "execution_count": null,
      "outputs": []
    }
  ]
}